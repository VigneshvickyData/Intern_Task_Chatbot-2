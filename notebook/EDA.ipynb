{
 "cells": [
  {
   "cell_type": "code",
   "execution_count": 1,
   "metadata": {},
   "outputs": [],
   "source": [
    "import pandas as pd\n",
    "import matplotlib.pyplot as plt\n",
    "import seaborn as sns"
   ]
  },
  {
   "cell_type": "code",
   "execution_count": 2,
   "metadata": {},
   "outputs": [
    {
     "data": {
      "text/html": [
       "<div>\n",
       "<style scoped>\n",
       "    .dataframe tbody tr th:only-of-type {\n",
       "        vertical-align: middle;\n",
       "    }\n",
       "\n",
       "    .dataframe tbody tr th {\n",
       "        vertical-align: top;\n",
       "    }\n",
       "\n",
       "    .dataframe thead th {\n",
       "        text-align: right;\n",
       "    }\n",
       "</style>\n",
       "<table border=\"1\" class=\"dataframe\">\n",
       "  <thead>\n",
       "    <tr style=\"text-align: right;\">\n",
       "      <th></th>\n",
       "      <th>AnswerID</th>\n",
       "      <th>Answer</th>\n",
       "    </tr>\n",
       "  </thead>\n",
       "  <tbody>\n",
       "    <tr>\n",
       "      <th>0</th>\n",
       "      <td>ADAM_0003147_Sec1.txt</td>\n",
       "      <td>Question: What is (are) Polycystic ovary syndr...</td>\n",
       "    </tr>\n",
       "    <tr>\n",
       "      <th>1</th>\n",
       "      <td>ADAM_0003147_Sec2.txt</td>\n",
       "      <td>Question: What causes Polycystic ovary syndrom...</td>\n",
       "    </tr>\n",
       "    <tr>\n",
       "      <th>2</th>\n",
       "      <td>ADAM_0002818_Sec2.txt</td>\n",
       "      <td>Question: What causes Noonan syndrome ?\\nURL: ...</td>\n",
       "    </tr>\n",
       "    <tr>\n",
       "      <th>3</th>\n",
       "      <td>ADAM_0002818_Sec7.txt</td>\n",
       "      <td>Question: What are the complications of Noonan...</td>\n",
       "    </tr>\n",
       "    <tr>\n",
       "      <th>4</th>\n",
       "      <td>ADAM_0002818_Sec9.txt</td>\n",
       "      <td>Question: How to prevent Noonan syndrome ?\\nUR...</td>\n",
       "    </tr>\n",
       "  </tbody>\n",
       "</table>\n",
       "</div>"
      ],
      "text/plain": [
       "                AnswerID                                             Answer\n",
       "0  ADAM_0003147_Sec1.txt  Question: What is (are) Polycystic ovary syndr...\n",
       "1  ADAM_0003147_Sec2.txt  Question: What causes Polycystic ovary syndrom...\n",
       "2  ADAM_0002818_Sec2.txt  Question: What causes Noonan syndrome ?\\nURL: ...\n",
       "3  ADAM_0002818_Sec7.txt  Question: What are the complications of Noonan...\n",
       "4  ADAM_0002818_Sec9.txt  Question: How to prevent Noonan syndrome ?\\nUR..."
      ]
     },
     "execution_count": 2,
     "metadata": {},
     "output_type": "execute_result"
    }
   ],
   "source": [
    "data = pd.read_csv(\"data\\All-2479-Answers-retrieved-from-MedQuAD.csv\")\n",
    "data.head()"
   ]
  },
  {
   "cell_type": "code",
   "execution_count": 3,
   "metadata": {},
   "outputs": [
    {
     "name": "stdout",
     "output_type": "stream",
     "text": [
      "<class 'pandas.core.frame.DataFrame'>\n",
      "RangeIndex: 2479 entries, 0 to 2478\n",
      "Data columns (total 2 columns):\n",
      " #   Column    Non-Null Count  Dtype \n",
      "---  ------    --------------  ----- \n",
      " 0   AnswerID  2479 non-null   object\n",
      " 1   Answer    2479 non-null   object\n",
      "dtypes: object(2)\n",
      "memory usage: 38.9+ KB\n"
     ]
    }
   ],
   "source": [
    "data.info()"
   ]
  },
  {
   "cell_type": "code",
   "execution_count": 4,
   "metadata": {},
   "outputs": [
    {
     "data": {
      "text/plain": [
       "AnswerID    0\n",
       "Answer      0\n",
       "dtype: int64"
      ]
     },
     "execution_count": 4,
     "metadata": {},
     "output_type": "execute_result"
    }
   ],
   "source": [
    "data.isnull().sum()"
   ]
  },
  {
   "cell_type": "code",
   "execution_count": 7,
   "metadata": {},
   "outputs": [],
   "source": [
    "data['Answer'] = data['Answer'].str.replace('\\n', ' ').str.strip()"
   ]
  },
  {
   "cell_type": "code",
   "execution_count": 8,
   "metadata": {},
   "outputs": [],
   "source": [
    "def split_question_answer(row):\n",
    "    try:\n",
    "        if \"Question:\" in row and \"Answer:\" in row:\n",
    "            question_part = row.split(\"Question:\")[1].split(\"Answer:\")[0].strip()\n",
    "            answer_part = row.split(\"Answer:\")[1].strip()\n",
    "            return question_part, answer_part\n",
    "        else:\n",
    "            return None, None\n",
    "    except Exception as e:\n",
    "        print(f\"Error processing row: {row}\\nException: {e}\")\n",
    "        return None, None"
   ]
  },
  {
   "cell_type": "code",
   "execution_count": 9,
   "metadata": {},
   "outputs": [],
   "source": [
    "data[['Question', 'Answers']] = data['Answer'].apply(lambda x: pd.Series(split_question_answer(x)))"
   ]
  },
  {
   "cell_type": "code",
   "execution_count": 10,
   "metadata": {},
   "outputs": [
    {
     "data": {
      "text/html": [
       "<div>\n",
       "<style scoped>\n",
       "    .dataframe tbody tr th:only-of-type {\n",
       "        vertical-align: middle;\n",
       "    }\n",
       "\n",
       "    .dataframe tbody tr th {\n",
       "        vertical-align: top;\n",
       "    }\n",
       "\n",
       "    .dataframe thead th {\n",
       "        text-align: right;\n",
       "    }\n",
       "</style>\n",
       "<table border=\"1\" class=\"dataframe\">\n",
       "  <thead>\n",
       "    <tr style=\"text-align: right;\">\n",
       "      <th></th>\n",
       "      <th>AnswerID</th>\n",
       "      <th>Answer</th>\n",
       "      <th>Question</th>\n",
       "      <th>Answers</th>\n",
       "    </tr>\n",
       "  </thead>\n",
       "  <tbody>\n",
       "    <tr>\n",
       "      <th>0</th>\n",
       "      <td>ADAM_0003147_Sec1.txt</td>\n",
       "      <td>Question: What is (are) Polycystic ovary syndr...</td>\n",
       "      <td>What is (are) Polycystic ovary syndrome ? (Als...</td>\n",
       "      <td>Polycystic ovary syndrome is a condition in wh...</td>\n",
       "    </tr>\n",
       "    <tr>\n",
       "      <th>1</th>\n",
       "      <td>ADAM_0003147_Sec2.txt</td>\n",
       "      <td>Question: What causes Polycystic ovary syndrom...</td>\n",
       "      <td>What causes Polycystic ovary syndrome ? (Also ...</td>\n",
       "      <td>PCOS is linked to changes in hormone levels th...</td>\n",
       "    </tr>\n",
       "  </tbody>\n",
       "</table>\n",
       "</div>"
      ],
      "text/plain": [
       "                AnswerID                                             Answer  \\\n",
       "0  ADAM_0003147_Sec1.txt  Question: What is (are) Polycystic ovary syndr...   \n",
       "1  ADAM_0003147_Sec2.txt  Question: What causes Polycystic ovary syndrom...   \n",
       "\n",
       "                                            Question  \\\n",
       "0  What is (are) Polycystic ovary syndrome ? (Als...   \n",
       "1  What causes Polycystic ovary syndrome ? (Also ...   \n",
       "\n",
       "                                             Answers  \n",
       "0  Polycystic ovary syndrome is a condition in wh...  \n",
       "1  PCOS is linked to changes in hormone levels th...  "
      ]
     },
     "execution_count": 10,
     "metadata": {},
     "output_type": "execute_result"
    }
   ],
   "source": [
    "data.head(2)"
   ]
  },
  {
   "cell_type": "code",
   "execution_count": 11,
   "metadata": {},
   "outputs": [],
   "source": [
    "data = data.drop(columns=['Answer'])"
   ]
  },
  {
   "cell_type": "code",
   "execution_count": null,
   "metadata": {},
   "outputs": [],
   "source": []
  },
  {
   "cell_type": "code",
   "execution_count": 12,
   "metadata": {},
   "outputs": [
    {
     "data": {
      "text/html": [
       "<div>\n",
       "<style scoped>\n",
       "    .dataframe tbody tr th:only-of-type {\n",
       "        vertical-align: middle;\n",
       "    }\n",
       "\n",
       "    .dataframe tbody tr th {\n",
       "        vertical-align: top;\n",
       "    }\n",
       "\n",
       "    .dataframe thead th {\n",
       "        text-align: right;\n",
       "    }\n",
       "</style>\n",
       "<table border=\"1\" class=\"dataframe\">\n",
       "  <thead>\n",
       "    <tr style=\"text-align: right;\">\n",
       "      <th></th>\n",
       "      <th>AnswerID</th>\n",
       "      <th>Question</th>\n",
       "      <th>Answers</th>\n",
       "    </tr>\n",
       "  </thead>\n",
       "  <tbody>\n",
       "    <tr>\n",
       "      <th>0</th>\n",
       "      <td>ADAM_0003147_Sec1.txt</td>\n",
       "      <td>What is (are) Polycystic ovary syndrome ? (Als...</td>\n",
       "      <td>Polycystic ovary syndrome is a condition in wh...</td>\n",
       "    </tr>\n",
       "    <tr>\n",
       "      <th>1</th>\n",
       "      <td>ADAM_0003147_Sec2.txt</td>\n",
       "      <td>What causes Polycystic ovary syndrome ? (Also ...</td>\n",
       "      <td>PCOS is linked to changes in hormone levels th...</td>\n",
       "    </tr>\n",
       "    <tr>\n",
       "      <th>2</th>\n",
       "      <td>ADAM_0002818_Sec2.txt</td>\n",
       "      <td>What causes Noonan syndrome ? URL: https://www...</td>\n",
       "      <td>Noonan syndrome is linked to defects in severa...</td>\n",
       "    </tr>\n",
       "    <tr>\n",
       "      <th>3</th>\n",
       "      <td>ADAM_0002818_Sec7.txt</td>\n",
       "      <td>What are the complications of Noonan syndrome ...</td>\n",
       "      <td>- Buildup of fluid in tissues of body (lymphed...</td>\n",
       "    </tr>\n",
       "    <tr>\n",
       "      <th>4</th>\n",
       "      <td>ADAM_0002818_Sec9.txt</td>\n",
       "      <td>How to prevent Noonan syndrome ? URL: https://...</td>\n",
       "      <td>Couples with a family history of Noonan syndro...</td>\n",
       "    </tr>\n",
       "  </tbody>\n",
       "</table>\n",
       "</div>"
      ],
      "text/plain": [
       "                AnswerID                                           Question  \\\n",
       "0  ADAM_0003147_Sec1.txt  What is (are) Polycystic ovary syndrome ? (Als...   \n",
       "1  ADAM_0003147_Sec2.txt  What causes Polycystic ovary syndrome ? (Also ...   \n",
       "2  ADAM_0002818_Sec2.txt  What causes Noonan syndrome ? URL: https://www...   \n",
       "3  ADAM_0002818_Sec7.txt  What are the complications of Noonan syndrome ...   \n",
       "4  ADAM_0002818_Sec9.txt  How to prevent Noonan syndrome ? URL: https://...   \n",
       "\n",
       "                                             Answers  \n",
       "0  Polycystic ovary syndrome is a condition in wh...  \n",
       "1  PCOS is linked to changes in hormone levels th...  \n",
       "2  Noonan syndrome is linked to defects in severa...  \n",
       "3  - Buildup of fluid in tissues of body (lymphed...  \n",
       "4  Couples with a family history of Noonan syndro...  "
      ]
     },
     "execution_count": 12,
     "metadata": {},
     "output_type": "execute_result"
    }
   ],
   "source": [
    "data.head()"
   ]
  },
  {
   "cell_type": "code",
   "execution_count": 13,
   "metadata": {},
   "outputs": [],
   "source": [
    "data.to_csv(\"Processed_MedQuAD.csv\", index=False)"
   ]
  },
  {
   "cell_type": "code",
   "execution_count": 14,
   "metadata": {},
   "outputs": [
    {
     "data": {
      "text/html": [
       "<div>\n",
       "<style scoped>\n",
       "    .dataframe tbody tr th:only-of-type {\n",
       "        vertical-align: middle;\n",
       "    }\n",
       "\n",
       "    .dataframe tbody tr th {\n",
       "        vertical-align: top;\n",
       "    }\n",
       "\n",
       "    .dataframe thead th {\n",
       "        text-align: right;\n",
       "    }\n",
       "</style>\n",
       "<table border=\"1\" class=\"dataframe\">\n",
       "  <thead>\n",
       "    <tr style=\"text-align: right;\">\n",
       "      <th></th>\n",
       "      <th>AnswerID</th>\n",
       "      <th>Question</th>\n",
       "      <th>Answers</th>\n",
       "    </tr>\n",
       "  </thead>\n",
       "  <tbody>\n",
       "    <tr>\n",
       "      <th>0</th>\n",
       "      <td>ADAM_0003147_Sec1.txt</td>\n",
       "      <td>What is (are) Polycystic ovary syndrome ? (Als...</td>\n",
       "      <td>Polycystic ovary syndrome is a condition in wh...</td>\n",
       "    </tr>\n",
       "    <tr>\n",
       "      <th>1</th>\n",
       "      <td>ADAM_0003147_Sec2.txt</td>\n",
       "      <td>What causes Polycystic ovary syndrome ? (Also ...</td>\n",
       "      <td>PCOS is linked to changes in hormone levels th...</td>\n",
       "    </tr>\n",
       "    <tr>\n",
       "      <th>2</th>\n",
       "      <td>ADAM_0002818_Sec2.txt</td>\n",
       "      <td>What causes Noonan syndrome ? URL: https://www...</td>\n",
       "      <td>Noonan syndrome is linked to defects in severa...</td>\n",
       "    </tr>\n",
       "    <tr>\n",
       "      <th>3</th>\n",
       "      <td>ADAM_0002818_Sec7.txt</td>\n",
       "      <td>What are the complications of Noonan syndrome ...</td>\n",
       "      <td>- Buildup of fluid in tissues of body (lymphed...</td>\n",
       "    </tr>\n",
       "    <tr>\n",
       "      <th>4</th>\n",
       "      <td>ADAM_0002818_Sec9.txt</td>\n",
       "      <td>How to prevent Noonan syndrome ? URL: https://...</td>\n",
       "      <td>Couples with a family history of Noonan syndro...</td>\n",
       "    </tr>\n",
       "  </tbody>\n",
       "</table>\n",
       "</div>"
      ],
      "text/plain": [
       "                AnswerID                                           Question  \\\n",
       "0  ADAM_0003147_Sec1.txt  What is (are) Polycystic ovary syndrome ? (Als...   \n",
       "1  ADAM_0003147_Sec2.txt  What causes Polycystic ovary syndrome ? (Also ...   \n",
       "2  ADAM_0002818_Sec2.txt  What causes Noonan syndrome ? URL: https://www...   \n",
       "3  ADAM_0002818_Sec7.txt  What are the complications of Noonan syndrome ...   \n",
       "4  ADAM_0002818_Sec9.txt  How to prevent Noonan syndrome ? URL: https://...   \n",
       "\n",
       "                                             Answers  \n",
       "0  Polycystic ovary syndrome is a condition in wh...  \n",
       "1  PCOS is linked to changes in hormone levels th...  \n",
       "2  Noonan syndrome is linked to defects in severa...  \n",
       "3  - Buildup of fluid in tissues of body (lymphed...  \n",
       "4  Couples with a family history of Noonan syndro...  "
      ]
     },
     "execution_count": 14,
     "metadata": {},
     "output_type": "execute_result"
    }
   ],
   "source": [
    "data.head()"
   ]
  },
  {
   "cell_type": "markdown",
   "metadata": {},
   "source": [
    "# Observation\n",
    "In the MedQuAD dataset contains medical question and answer in the same column. So it requries preprocessing to separate question and answers for the effective use we done the process sucessfully.  "
   ]
  },
  {
   "cell_type": "code",
   "execution_count": null,
   "metadata": {},
   "outputs": [],
   "source": []
  },
  {
   "cell_type": "code",
   "execution_count": null,
   "metadata": {},
   "outputs": [],
   "source": []
  },
  {
   "cell_type": "code",
   "execution_count": null,
   "metadata": {},
   "outputs": [],
   "source": []
  }
 ],
 "metadata": {
  "kernelspec": {
   "display_name": "med_chatbot",
   "language": "python",
   "name": "python3"
  },
  "language_info": {
   "codemirror_mode": {
    "name": "ipython",
    "version": 3
   },
   "file_extension": ".py",
   "mimetype": "text/x-python",
   "name": "python",
   "nbconvert_exporter": "python",
   "pygments_lexer": "ipython3",
   "version": "3.8.20"
  }
 },
 "nbformat": 4,
 "nbformat_minor": 2
}
